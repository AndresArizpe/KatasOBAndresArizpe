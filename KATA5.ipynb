{
 "cells": [
  {
   "cell_type": "markdown",
   "metadata": {},
   "source": [
    "Ejercicio1 - Utilizar operadores aritméticos"
   ]
  },
  {
   "cell_type": "code",
   "execution_count": 20,
   "metadata": {},
   "outputs": [],
   "source": [
    "tierra = (149597870) \n",
    "Jupiter = (778547200)"
   ]
  },
  {
   "cell_type": "code",
   "execution_count": 22,
   "metadata": {},
   "outputs": [
    {
     "name": "stdout",
     "output_type": "stream",
     "text": [
      "928145070\n",
      "576378088.47\n"
     ]
    }
   ],
   "source": [
    "distancia_tierra_jupiter = tierra + Jupiter\n",
    "print(distancia_tierra_jupiter)\n",
    "distancia_millas = distancia_tierra_jupiter * 0.621\n",
    "print(distancia_millas)"
   ]
  },
  {
   "cell_type": "markdown",
   "metadata": {},
   "source": [
    "Ejercicio 2: convierte cadenas en números y usa valores absolutos"
   ]
  },
  {
   "cell_type": "code",
   "execution_count": 32,
   "metadata": {},
   "outputs": [],
   "source": [
    "d1 = input(\"inserte distancia del primer planeta\")\n",
    "d2 = input(\"inserte distancia del segundo planeta\")"
   ]
  },
  {
   "cell_type": "code",
   "execution_count": 34,
   "metadata": {},
   "outputs": [],
   "source": [
    "d1 = int(d1)\n",
    "d2 = int(d2)"
   ]
  },
  {
   "cell_type": "code",
   "execution_count": 38,
   "metadata": {},
   "outputs": [
    {
     "name": "stdout",
     "output_type": "stream",
     "text": [
      "900\n",
      "558.9\n"
     ]
    }
   ],
   "source": [
    "distancia = d1 - d2\n",
    "print(abs(distancia))\n",
    "Dm = distancia * 0.621\n",
    "print(abs(Dm))"
   ]
  }
 ],
 "metadata": {
  "interpreter": {
   "hash": "3b885146f35afa9833e4d2207a102c6eb9f780901274b4c88459c615bd73591c"
  },
  "kernelspec": {
   "display_name": "Python 3.10.2 64-bit",
   "language": "python",
   "name": "python3"
  },
  "language_info": {
   "codemirror_mode": {
    "name": "ipython",
    "version": 3
   },
   "file_extension": ".py",
   "mimetype": "text/x-python",
   "name": "python",
   "nbconvert_exporter": "python",
   "pygments_lexer": "ipython3",
   "version": "3.10.2"
  },
  "orig_nbformat": 4
 },
 "nbformat": 4,
 "nbformat_minor": 2
}
