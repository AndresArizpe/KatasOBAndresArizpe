{
 "cells": [
  {
   "cell_type": "markdown",
   "metadata": {},
   "source": [
    "EJERCICIO 1"
   ]
  },
  {
   "cell_type": "code",
   "execution_count": 8,
   "metadata": {},
   "outputs": [
    {
     "name": "stdout",
     "output_type": "stream",
     "text": [
      "ALERTA! LA HUMANIDAD ESTA EN PELIGRO\n"
     ]
    }
   ],
   "source": [
    "asteroide = 45\n",
    "if asteroide >= 25:\n",
    " print(\"ALERTA! LA HUMANIDAD ESTA EN PELIGRO\")\n",
    "else:\n",
    "    print(\"continua con tu vida\")"
   ]
  },
  {
   "cell_type": "markdown",
   "metadata": {},
   "source": [
    "EJERCICIO 2"
   ]
  },
  {
   "cell_type": "code",
   "execution_count": 9,
   "metadata": {},
   "outputs": [
    {
     "name": "stdout",
     "output_type": "stream",
     "text": [
      "continua con tu vida\n"
     ]
    }
   ],
   "source": [
    "asteroide = 18\n",
    "if asteroide > 19:\n",
    " print(\"busca el asteroide en el cielo\")\n",
    "elif asteroide ==19:\n",
    "    print(\"busca el asteroide en el cielo!\")\n",
    "else:\n",
    "    print(\"continua con tu vida\")"
   ]
  },
  {
   "cell_type": "markdown",
   "metadata": {},
   "source": [
    "EJERCICIO 3"
   ]
  },
  {
   "cell_type": "code",
   "execution_count": 10,
   "metadata": {},
   "outputs": [
    {
     "name": "stdout",
     "output_type": "stream",
     "text": [
      "continua con tu vida\n"
     ]
    }
   ],
   "source": [
    "vasteroide = 25\n",
    "masteroide = 20\n",
    "if vasteroide >= 25 and masteroide >= 25:\n",
    "    print(\"LA HUMANIDAD ESTA EN PELIGRO!\")\n",
    "elif vasteroide <= 20:\n",
    "    print(\"busca el asteroide en el cielo\")\n",
    "elif masteroide <= 25:\n",
    "    print(\"continua con tu vida\")\n",
    "else:\n",
    "    print(\"continua con tu vida\")"
   ]
  }
 ],
 "metadata": {
  "interpreter": {
   "hash": "3b885146f35afa9833e4d2207a102c6eb9f780901274b4c88459c615bd73591c"
  },
  "kernelspec": {
   "display_name": "Python 3.10.2 64-bit",
   "language": "python",
   "name": "python3"
  },
  "language_info": {
   "codemirror_mode": {
    "name": "ipython",
    "version": 3
   },
   "file_extension": ".py",
   "mimetype": "text/x-python",
   "name": "python",
   "nbconvert_exporter": "python",
   "pygments_lexer": "ipython3",
   "version": "3.10.2"
  },
  "orig_nbformat": 4
 },
 "nbformat": 4,
 "nbformat_minor": 2
}
